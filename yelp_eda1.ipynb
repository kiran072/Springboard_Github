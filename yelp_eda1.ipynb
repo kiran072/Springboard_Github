{
 "cells": [
  {
   "cell_type": "code",
   "execution_count": 2,
   "metadata": {},
   "outputs": [],
   "source": [
    "\n",
    "from __future__ import print_function\n",
    "from collections import Counter\n",
    "import numpy as np\n",
    "import pandas as pd\n",
    "from scipy import optimize\n",
    "import matplotlib.mlab as mlab\n",
    "import matplotlib.pyplot as plt\n",
    "%matplotlib inline\n"
   ]
  },
  {
   "cell_type": "code",
   "execution_count": 8,
   "metadata": {},
   "outputs": [],
   "source": [
    "data_dir = \"/Users/kasknani/Desktop/media/1ADF-0E69/yelp_dataset_challenge_academic_dataset\"\n"
   ]
  },
  {
   "cell_type": "code",
   "execution_count": 9,
   "metadata": {},
   "outputs": [
    {
     "name": "stdout",
     "output_type": "stream",
     "text": [
      "Read 1183362 users\n"
     ]
    }
   ],
   "source": [
    "import json, os\n",
    "users = []\n",
    "with open(os.path.join(data_dir, 'user.json')) as f:\n",
    "    for line in f:\n",
    "        users.append(json.loads(line))\n",
    "print(\"Read {count} users\".format(count=len(users)))"
   ]
  },
  {
   "cell_type": "code",
   "execution_count": 10,
   "metadata": {},
   "outputs": [
    {
     "name": "stdout",
     "output_type": "stream",
     "text": [
      "Read 4736897 reviews\n"
     ]
    }
   ],
   "source": [
    "reviews = []\n",
    "with open(os.path.join(data_dir, 'review.json')) as f:\n",
    "    for line in f:\n",
    "        reviews.append(json.loads(line))\n",
    "print(\"Read {count} reviews\".format(count=len(reviews)))"
   ]
  },
  {
   "cell_type": "code",
   "execution_count": 12,
   "metadata": {},
   "outputs": [
    {
     "name": "stdout",
     "output_type": "stream",
     "text": [
      "Read 156639 businesses\n"
     ]
    }
   ],
   "source": [
    "businesses = []\n",
    "with open(os.path.join(data_dir, 'business.json')) as f:\n",
    "    for line in f:\n",
    "        businesses.append(json.loads(line))\n",
    "print(\"Read {count} businesses\".format(count=len(businesses)))"
   ]
  },
  {
   "cell_type": "markdown",
   "metadata": {},
   "source": [
    "\n",
    "## Distribution of Friends\n",
    "Slightly over half of users in the data set have not defined any friends in Yelp. The distribution of number of friends follows a powerlaw distribution."
   ]
  },
  {
   "cell_type": "code",
   "execution_count": 13,
   "metadata": {},
   "outputs": [
    {
     "name": "stdout",
     "output_type": "stream",
     "text": [
      "Counted 39846890 friend relationships\n"
     ]
    }
   ],
   "source": [
    "friend_counts = []\n",
    "for user in users:\n",
    "    friend_counts.append(len(user[\"friends\"]))\n",
    "print(\"Counted {count} friend relationships\".format(count=sum(friend_counts)))"
   ]
  },
  {
   "cell_type": "code",
   "execution_count": 14,
   "metadata": {},
   "outputs": [
    {
     "name": "stdout",
     "output_type": "stream",
     "text": [
      "Fraction of users with no defined friends: 0.429\n"
     ]
    }
   ],
   "source": [
    "print(\"Fraction of users with no defined friends: %0.3f\" % \n",
    "      (len([c for c in friend_counts if c==0]) / float(len(friend_counts))))"
   ]
  },
  {
   "cell_type": "code",
   "execution_count": 15,
   "metadata": {},
   "outputs": [],
   "source": [
    "nonzero_friend_counts = [c for c in friend_counts if c>0]"
   ]
  },
  {
   "cell_type": "code",
   "execution_count": 16,
   "metadata": {},
   "outputs": [
    {
     "name": "stdout",
     "output_type": "stream",
     "text": [
      "n    = 675411\n",
      "mean = 58.9965073118\n",
      "sd   = 159.506739486\n",
      "min  = 1\n",
      "10%  = 1.0\n",
      "25%  = 4.0\n",
      "50%  = 18.0\n",
      "75%  = 59.0\n",
      "90%  = 143.0\n",
      "max  = 14995\n"
     ]
    }
   ],
   "source": [
    "def summary(data):\n",
    "    print(\"n    = {n}\\n\"\n",
    "          \"mean = {mean}\\n\"\n",
    "          \"sd   = {sd}\\n\"\n",
    "          \"min  = {min}\\n\"\n",
    "          \"10%  = {p10}\\n\"\n",
    "          \"25%  = {p25}\\n\"\n",
    "          \"50%  = {p50}\\n\"\n",
    "          \"75%  = {p75}\\n\"\n",
    "          \"90%  = {p90}\\n\"\n",
    "          \"max  = {max}\".format(\n",
    "            n=len(data),\n",
    "            min=min(data),\n",
    "            p10=np.percentile(data, 10),\n",
    "            p25=np.percentile(data, 25),\n",
    "            p50=np.percentile(data, 50),\n",
    "            p75=np.percentile(data, 75),\n",
    "            p90=np.percentile(data, 90),\n",
    "            mean=np.mean(data),\n",
    "            sd=np.std(data),\n",
    "            max=max(data)))\n",
    "summary(nonzero_friend_counts)"
   ]
  },
  {
   "cell_type": "markdown",
   "metadata": {},
   "source": [
    "Code to fit to a powerlaw adapted from the SciPy Cookbook's section on Fitting Data."
   ]
  },
  {
   "cell_type": "code",
   "execution_count": 17,
   "metadata": {},
   "outputs": [],
   "source": [
    "\n",
    "def powerlaw(p, x):\n",
    "    return p[0] * (x**p[1])\n",
    "\n",
    "def fitfunc(p,x):\n",
    "    return p[0] + p[1] * x \n",
    "\n",
    "def errfunc(p, x, y):\n",
    "    return (y - fitfunc(p, x))/ (fitfunc(p, x)+1)\n",
    "\n",
    "def fit_to_powerlaw(xs,ys):\n",
    "    logx = np.log10(np.maximum(np.ones(len(xs)),xs))\n",
    "    logy = np.log10(np.maximum(np.ones(len(ys)),ys))\n",
    "    pinit = [max(ys), -1.0]\n",
    "    out = optimize.leastsq(errfunc, pinit, args=(logx, logy), full_output=1)\n",
    "    pfinal = out[0]\n",
    "    index = pfinal[1]\n",
    "    amp = 10.0**pfinal[0]\n",
    "    return (amp, index)"
   ]
  },
  {
   "cell_type": "code",
   "execution_count": 18,
   "metadata": {},
   "outputs": [
    {
     "name": "stdout",
     "output_type": "stream",
     "text": [
      "p= (4733175730463.1787, -3.0838378483804005)\n"
     ]
    },
    {
     "data": {
      "image/png": "[encoded data removed]",
      "text/plain": [
       "<matplotlib.figure.Figure at 0x185d5d4fd0>"
      ]
     },
     "metadata": {},
     "output_type": "display_data"
    }
   ],
   "source": [
    "y, bins, patches = plt.hist(nonzero_friend_counts, 12, log=True, facecolor='#6699cc', alpha=0.45)\n",
    "\n",
    "p = fit_to_powerlaw(bins[:-1], y)\n",
    "print(\"p=\",p)\n",
    "plt.plot(bins, powerlaw(p, bins), 'g--', lw=2)\n",
    "\n",
    "plt.xlabel('Friends')\n",
    "plt.title('Histogram of number of friends')\n",
    "plt.grid(True)\n",
    "plt.show()"
   ]
  },
  {
   "cell_type": "markdown",
   "metadata": {},
   "source": [
    "## Distribution of Reviews per user"
   ]
  },
  {
   "cell_type": "code",
   "execution_count": 19,
   "metadata": {},
   "outputs": [
    {
     "name": "stdout",
     "output_type": "stream",
     "text": [
      "n    = 1183362\n",
      "mean = 4.00291457728\n",
      "sd   = 13.845164729\n",
      "min  = 1\n",
      "10%  = 1.0\n",
      "25%  = 1.0\n",
      "50%  = 1.0\n",
      "75%  = 3.0\n",
      "90%  = 7.0\n",
      "max  = 3442\n"
     ]
    }
   ],
   "source": [
    "user_review_count = {}\n",
    "for review in reviews:\n",
    "    user_id = review[\"user_id\"]\n",
    "    if user_id in user_review_count:\n",
    "        user_review_count[user_id] += 1\n",
    "    else:\n",
    "        user_review_count[user_id] = 1\n",
    "summary(user_review_count.values())"
   ]
  },
  {
   "cell_type": "code",
   "execution_count": 20,
   "metadata": {},
   "outputs": [
    {
     "name": "stdout",
     "output_type": "stream",
     "text": [
      "n    = 1183362\n",
      "mean = 23.7268604197\n",
      "sd   = 80.5064183211\n",
      "min  = 0\n",
      "10%  = 1.0\n",
      "25%  = 2.0\n",
      "50%  = 5.0\n",
      "75%  = 16.0\n",
      "90%  = 48.0\n",
      "max  = 11656\n"
     ]
    }
   ],
   "source": [
    "summary([user['review_count'] for user in users])\n"
   ]
  },
  {
   "cell_type": "code",
   "execution_count": 22,
   "metadata": {},
   "outputs": [
    {
     "data": {
      "text/plain": [
       "28077465"
      ]
     },
     "execution_count": 22,
     "metadata": {},
     "output_type": "execute_result"
    }
   ],
   "source": [
    "sum([user['review_count'] for user in users])\n"
   ]
  },
  {
   "cell_type": "code",
   "execution_count": 23,
   "metadata": {},
   "outputs": [
    {
     "data": {
      "text/plain": [
       "4736897"
      ]
     },
     "execution_count": 23,
     "metadata": {},
     "output_type": "execute_result"
    }
   ],
   "source": [
    "sum(user_review_count.values())\n"
   ]
  },
  {
   "cell_type": "code",
   "execution_count": 24,
   "metadata": {},
   "outputs": [
    {
     "data": {
      "text/plain": [
       "1319"
      ]
     },
     "execution_count": 24,
     "metadata": {},
     "output_type": "execute_result"
    }
   ],
   "source": [
    "len([user['user_id'] for user in users if user_review_count[user['user_id']] > user['review_count']])"
   ]
  },
  {
   "cell_type": "code",
   "execution_count": 26,
   "metadata": {},
   "outputs": [
    {
     "name": "stdout",
     "output_type": "stream",
     "text": [
      "p= (1552109.0592496276, -1.2661929196125798)\n"
     ]
    },
    {
     "name": "stderr",
     "output_type": "stream",
     "text": [
      "/Users/kasknani/anaconda3/envs/Python27/lib/python2.7/site-packages/matplotlib/axes/_base.py:3291: UserWarning: Attempted to set non-positive ylimits for log-scale axis; invalid limits will be ignored.\n",
      "  'Attempted to set non-positive ylimits for log-scale axis; '\n"
     ]
    },
    {
     "data": {
      "image/png": "[encoded data removed]",
      "text/plain": [
       "<matplotlib.figure.Figure at 0x1869242ad0>"
      ]
     },
     "metadata": {},
     "output_type": "display_data"
    }
   ],
   "source": [
    "review_counts = [user['review_count'] for user in users if user['review_count']>0 and user['review_count']<100]\n",
    "y, bins, patches = plt.hist(review_counts, 16, log=True, facecolor='#6699cc', alpha=0.45)\n",
    "\n",
    "p = fit_to_powerlaw(bins[:-1], y)\n",
    "print(\"p=\",p)\n",
    "plt.plot(bins, powerlaw(p, bins), 'g--', lw=2)\n",
    "\n",
    "plt.xlabel('Count of reviews')\n",
    "plt.ylabel('Users')\n",
    "plt.title('Histogram of number of reviews')\n",
    "plt.grid(True)\n",
    "plt.axis([0, 100, 0, 250000])\n",
    "plt.show()\n"
   ]
  },
  {
   "cell_type": "code",
   "execution_count": 27,
   "metadata": {},
   "outputs": [
    {
     "data": {
      "text/plain": [
       "57603"
      ]
     },
     "execution_count": 27,
     "metadata": {},
     "output_type": "execute_result"
    }
   ],
   "source": [
    "len([user['review_count'] for user in users if user['review_count']>100])\n"
   ]
  },
  {
   "cell_type": "markdown",
   "metadata": {},
   "source": [
    "## Elite users"
   ]
  },
  {
   "cell_type": "code",
   "execution_count": 29,
   "metadata": {},
   "outputs": [],
   "source": [
    "review_count_by_elite_years = []\n",
    "for i in range(20):\n",
    "    review_count_by_elite_years.append([])\n",
    "for user in users:\n",
    "    elite_years = len(user['elite'])\n",
    "    review_count_by_elite_years[elite_years].append(user['review_count'])"
   ]
  },
  {
   "cell_type": "code",
   "execution_count": 30,
   "metadata": {},
   "outputs": [
    {
     "name": "stdout",
     "output_type": "stream",
     "text": [
      "Of 1183362 users, 56121 or 4.7% have at some time qualified for elite status.\n"
     ]
    }
   ],
   "source": [
    "elite = sum(len(review_count_by_elite_years[i]) for i in range(1,len(review_count_by_elite_years)))\n",
    "print(\"Of %d users, %d or %0.1f%% have at some time qualified for elite status.\" % (len(users), elite, float(elite)/float(len(users))*100.0))"
   ]
  },
  {
   "cell_type": "code",
   "execution_count": 32,
   "metadata": {},
   "outputs": [
    {
     "name": "stdout",
     "output_type": "stream",
     "text": [
      " 0     13.5\n",
      " 1     99.8\n",
      " 2    131.7\n",
      " 3    195.9\n",
      " 4    268.4\n",
      " 5    333.7\n",
      " 6    422.3\n",
      " 7    503.8\n",
      " 8    609.5\n",
      " 9    752.3\n",
      "10    904.7\n",
      "11    927.5\n",
      "12   1468.5\n",
      "13   1953.6\n",
      "14      nan\n",
      "15      nan\n",
      "16      nan\n",
      "17      nan\n",
      "18      nan\n",
      "19      nan\n"
     ]
    },
    {
     "name": "stderr",
     "output_type": "stream",
     "text": [
      "/Users/kasknani/anaconda3/envs/Python27/lib/python2.7/site-packages/numpy/core/fromnumeric.py:2909: RuntimeWarning: Mean of empty slice.\n",
      "  out=out, **kwargs)\n",
      "/Users/kasknani/anaconda3/envs/Python27/lib/python2.7/site-packages/numpy/core/_methods.py:80: RuntimeWarning: invalid value encountered in double_scalars\n",
      "  ret = ret.dtype.type(ret / rcount)\n"
     ]
    }
   ],
   "source": [
    "for elite_years in range(len(review_count_by_elite_years)):\n",
    "    print(\"%2d %8.1f\" % (elite_years, np.mean(review_count_by_elite_years[elite_years])))"
   ]
  },
  {
   "cell_type": "code",
   "execution_count": 33,
   "metadata": {},
   "outputs": [
    {
     "data": {
      "image/png": "[encoded data removed]",
      "text/plain": [
       "<matplotlib.figure.Figure at 0x187219c790>"
      ]
     },
     "metadata": {},
     "output_type": "display_data"
    }
   ],
   "source": [
    "plt.boxplot(review_count_by_elite_years)\n",
    "plt.axis([0,13,0,3000])\n",
    "plt.ylabel('reviews')\n",
    "plt.xlabel('years of elite status')\n",
    "plt.title('Number of reviews by elite status')\n",
    "plt.grid(True)\n",
    "plt.show()"
   ]
  },
  {
   "cell_type": "markdown",
   "metadata": {},
   "source": [
    "## Ratings\n"
   ]
  },
  {
   "cell_type": "markdown",
   "metadata": {},
   "source": [
    "People seem to review things they like. The distribution of ratings is heavily skewed towards 4 and 5 stars.\n",
    "\n"
   ]
  },
  {
   "cell_type": "code",
   "execution_count": 34,
   "metadata": {},
   "outputs": [
    {
     "data": {
      "image/png": "[encoded data removed]",
      "text/plain": [
       "<matplotlib.figure.Figure at 0x1869233890>"
      ]
     },
     "metadata": {},
     "output_type": "display_data"
    }
   ],
   "source": [
    "average_stars = [user['average_stars'] for user in users]\n",
    "y, bins, patches = plt.hist(average_stars, 5, facecolor='#6699cc', alpha=0.45)\n",
    "\n",
    "plt.xlabel('average stars given')\n",
    "plt.ylabel('users')\n",
    "plt.title('Histogram of average ratings')\n",
    "plt.grid(True)\n",
    "#plt.axis([0, 100, 0, 250000])\n",
    "plt.show()"
   ]
  },
  {
   "cell_type": "code",
   "execution_count": null,
   "metadata": {},
   "outputs": [],
   "source": []
  },
  {
   "cell_type": "code",
   "execution_count": null,
   "metadata": {},
   "outputs": [],
   "source": []
  }
 ],
 "metadata": {
  "kernelspec": {
   "display_name": "Python 2",
   "language": "python",
   "name": "python2"
  },
  "language_info": {
   "codemirror_mode": {
    "name": "ipython",
    "version": 2
   },
   "file_extension": ".py",
   "mimetype": "text/x-python",
   "name": "python",
   "nbconvert_exporter": "python",
   "pygments_lexer": "ipython2",
   "version": "2.7.14"
  }
 },
 "nbformat": 4,
 "nbformat_minor": 2
}
