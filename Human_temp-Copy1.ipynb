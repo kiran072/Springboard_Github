{
 "cells": [
  {
   "cell_type": "markdown",
   "metadata": {},
   "source": [
    "# What is the True Normal Human Body Temperature?\n",
    "\n",
    "Background\n",
    "\n",
    "The mean normal body temperature was held to be 37∘C or 98.6∘ F for more than 120 years since it was first conceptualized and reported by Carl Wunderlich in a famous 1868 book. But, is this value statistically correct?"
   ]
  },
  {
   "cell_type": "markdown",
   "metadata": {},
   "source": [
    "# Exercises\n",
    "\n",
    "In this exercise, you will analyze a dataset of human body temperatures and employ the concepts of hypothesis testing, confidence intervals, and statistical significance.\n",
    "\n",
    "Answer the following questions in this notebook below and submit to your Github account.\n",
    "\n",
    "Is the distribution of body temperatures normal?\n",
    "\n",
    "Although this is not a requirement for CLT to hold (read CLT carefully), it gives us some peace of mind that the population may also be normally distributed if we assume that this sample is representative of the population.\n",
    "\n",
    "Is the sample size large? Are the observations independent?\n",
    "\n",
    "Remember that this is a condition for the CLT, and hence the statistical tests we are using, to apply.\n",
    "\n",
    "Is the true population mean really 98.6 degrees F?\n",
    "\n",
    "Would you use a one-sample or two-sample test? Why?\n",
    "\n",
    "In this situation, is it appropriate to use the t or z statistic?\n",
    "\n",
    "Now try using the other test. How is the result be different? Why?\n",
    "\n",
    "Draw a small sample of size 10 from the data and repeat both tests.\n",
    "\n",
    "Which one is the correct one to use?\n",
    "\n",
    "What do you notice? What does this tell you about the difference in application of the `t\n",
    "\n",
    "At what temperature should we consider someone's temperature to be \"abnormal\"?\n",
    "\n",
    "Start by computing the margin of error and confidence interval.\n",
    "\n",
    "Is there a significant difference between males and females in normal temperature?\n",
    "\n",
    "What test did you use and why?\n",
    "\n",
    "Write a story with your conclusion in the context of the original problem."
   ]
  },
  {
   "cell_type": "code",
   "execution_count": 3,
   "metadata": {
    "collapsed": true
   },
   "outputs": [],
   "source": [
    "from IPython.display import HTML\n",
    "HTML('<iframe src=http://stanford.edu/~mwaskom/software/seaborn/index.html width=700 height=350></iframe>')\n",
    "import matplotlib.pyplot as plt\n",
    "import pandas as pd\n",
    "import numpy as np\n",
    "import seaborn as sns\n",
    "from scipy import stats"
   ]
  },
  {
   "cell_type": "code",
   "execution_count": 4,
   "metadata": {
    "collapsed": true
   },
   "outputs": [],
   "source": [
    "#seaborn settings\n",
    "sns.set_palette(\"deep\", desat=.6)\n",
    "sns.set_context(rc={\"figure.figsize\": (8,4)})"
   ]
  },
  {
   "cell_type": "code",
   "execution_count": 5,
   "metadata": {
    "collapsed": true
   },
   "outputs": [],
   "source": [
    "file= '/home/kiran/Desktop/Springboard/human_temp/data/human_body_temperature.csv'"
   ]
  },
  {
   "cell_type": "code",
   "execution_count": 6,
   "metadata": {
    "collapsed": false
   },
   "outputs": [],
   "source": [
    "df=pd.read_csv(file)"
   ]
  },
  {
   "cell_type": "code",
   "execution_count": 7,
   "metadata": {
    "collapsed": false
   },
   "outputs": [
    {
     "data": {
      "text/html": [
       "<div>\n",
       "<style>\n",
       "    .dataframe thead tr:only-child th {\n",
       "        text-align: right;\n",
       "    }\n",
       "\n",
       "    .dataframe thead th {\n",
       "        text-align: left;\n",
       "    }\n",
       "\n",
       "    .dataframe tbody tr th {\n",
       "        vertical-align: top;\n",
       "    }\n",
       "</style>\n",
       "<table border=\"1\" class=\"dataframe\">\n",
       "  <thead>\n",
       "    <tr style=\"text-align: right;\">\n",
       "      <th></th>\n",
       "      <th>temperature</th>\n",
       "      <th>gender</th>\n",
       "      <th>heart_rate</th>\n",
       "    </tr>\n",
       "  </thead>\n",
       "  <tbody>\n",
       "    <tr>\n",
       "      <th>0</th>\n",
       "      <td>99.3</td>\n",
       "      <td>F</td>\n",
       "      <td>68.0</td>\n",
       "    </tr>\n",
       "    <tr>\n",
       "      <th>1</th>\n",
       "      <td>98.4</td>\n",
       "      <td>F</td>\n",
       "      <td>81.0</td>\n",
       "    </tr>\n",
       "    <tr>\n",
       "      <th>2</th>\n",
       "      <td>97.8</td>\n",
       "      <td>M</td>\n",
       "      <td>73.0</td>\n",
       "    </tr>\n",
       "    <tr>\n",
       "      <th>3</th>\n",
       "      <td>99.2</td>\n",
       "      <td>F</td>\n",
       "      <td>66.0</td>\n",
       "    </tr>\n",
       "    <tr>\n",
       "      <th>4</th>\n",
       "      <td>98.0</td>\n",
       "      <td>F</td>\n",
       "      <td>73.0</td>\n",
       "    </tr>\n",
       "  </tbody>\n",
       "</table>\n",
       "</div>"
      ],
      "text/plain": [
       "   temperature gender  heart_rate\n",
       "0         99.3      F        68.0\n",
       "1         98.4      F        81.0\n",
       "2         97.8      M        73.0\n",
       "3         99.2      F        66.0\n",
       "4         98.0      F        73.0"
      ]
     },
     "execution_count": 7,
     "metadata": {},
     "output_type": "execute_result"
    }
   ],
   "source": [
    "df.head(5)"
   ]
  },
  {
   "cell_type": "code",
   "execution_count": 66,
   "metadata": {
    "collapsed": false
   },
   "outputs": [
    {
     "data": {
      "image/png": "[encoded data removed]",
      "text/plain": [
       "<matplotlib.figure.Figure at 0x7fd0fa41f550>"
      ]
     },
     "metadata": {},
     "output_type": "display_data"
    }
   ],
   "source": [
    "# Plotting histogram to check the distribution\n",
    "human_temp=df['temperature'].values # extracted all the temperature values as numpy array\n",
    "n_data = len(human_temp)\n",
    "n_bins = np.sqrt(n_data)  # calculating number of bins\n",
    "n_bins = int(n_bins)\n",
    "n_bins = int(n_bins)\n",
    "_=plt.hist(human_temp,bins=n_bins,normed= True,histtype = 'step')\n",
    "plt.xlabel('human_temp')\n",
    "plt.ylabel('pdf')\n",
    "plt.show()\n",
    "\n",
    "#Below graph looks like Normal Distribution"
   ]
  },
  {
   "cell_type": "code",
   "execution_count": 9,
   "metadata": {
    "collapsed": false
   },
   "outputs": [
    {
     "name": "stdout",
     "output_type": "stream",
     "text": [
      "98.2492307692\n",
      "0.730357778905\n"
     ]
    }
   ],
   "source": [
    "# Summary staistics for the temperature column\n",
    "mu= np.mean(human_temp)\n",
    "print(mu)\n",
    "sigma=np.std(human_temp)\n",
    "print(sigma)\n"
   ]
  },
  {
   "cell_type": "code",
   "execution_count": 10,
   "metadata": {
    "collapsed": true
   },
   "outputs": [],
   "source": [
    "# Writing function to calculate ECDF\n",
    "def ecdf(data):\n",
    "    \"\"\"Compute ECDF for a one-dimensional array of measurements.\"\"\"\n",
    "   \n",
    "       \n",
    "    # Number of data points: n\n",
    "    n =len(data)\n",
    "\n",
    "    # x-data for the ECDF: x\n",
    "\n",
    "    x= np.sort(data)\n",
    "    # y-data for the ECDF: y\n",
    "    y = np.arange(1, n+1) / n\n",
    "\n",
    "    return x, y"
   ]
  },
  {
   "cell_type": "code",
   "execution_count": 11,
   "metadata": {
    "collapsed": false
   },
   "outputs": [
    {
     "data": {
      "image/png": "[encoded data removed]",
      "text/plain": [
       "<matplotlib.figure.Figure at 0x7fd0fdd2e6d8>"
      ]
     },
     "metadata": {},
     "output_type": "display_data"
    }
   ],
   "source": [
    "## Using ECDF plot to dtermine Normal Distrubution\n",
    "\n",
    "# Compute mean and standard deviation: mu, sigma\n",
    "mu = np.mean(human_temp)\n",
    "sigma = np.std(human_temp)\n",
    "\n",
    "# Sample out of a normal distribution with this mu and sigma: samples\n",
    "samples = np.random.normal(mu,sigma,10000)\n",
    "\n",
    "# Get the CDF of the samples and of the data\n",
    "x_theor,y_theor =ecdf(samples)\n",
    "x,y = ecdf(human_temp)\n",
    "\n",
    "# Plot the CDFs and show the plot\n",
    "_ = plt.plot(x_theor, y_theor)\n",
    "_ = plt.plot(x, y, marker='.', linestyle='none')\n",
    "plt.margins(0.02)\n",
    "_ = plt.xlabel('Human Temp in F (farenheight)')\n",
    "_ = plt.ylabel('CDF')\n",
    "_=plt.legend(('theoritical','practical'),loc ='lower right')\n",
    "plt.show()\n",
    "\n",
    "## From the figure below it looks like distrubiton is normal since it closely resembles the theoritical normal distribution"
   ]
  },
  {
   "cell_type": "code",
   "execution_count": 12,
   "metadata": {
    "collapsed": false
   },
   "outputs": [
    {
     "data": {
      "text/plain": [
       "130"
      ]
     },
     "execution_count": 12,
     "metadata": {},
     "output_type": "execute_result"
    }
   ],
   "source": [
    "#Size of the dataset\n",
    "len(human_temp)\n",
    "\n",
    "# Since the sample size is greater than 50 the sample size is large and since the distribution follows normal distribution \n",
    "# so the assumption is values are independent of each ther\n"
   ]
  },
  {
   "cell_type": "markdown",
   "metadata": {},
   "source": [
    "# Is the true population mean really 98.6 degrees F?\n",
    " For this I will use one sample test since here I am comparing one set of data to a single number mean 98.6 F\n",
    " Also since the sample size is large i.e  >30 I will use z staistic\n"
   ]
  },
  {
   "cell_type": "markdown",
   "metadata": {},
   "source": [
    "Our Null Hypothesis H0: Average Human Temperature = 98.6 \n",
    "Alternate Hypothesis H1: Avergae human temerature is <98.6"
   ]
  },
  {
   "cell_type": "code",
   "execution_count": 13,
   "metadata": {
    "collapsed": false
   },
   "outputs": [
    {
     "name": "stdout",
     "output_type": "stream",
     "text": [
      "98.2492307692\n",
      "0.730357778905\n"
     ]
    }
   ],
   "source": [
    "# Summary staistics for the temperature column\n",
    "mu= np.mean(human_temp)\n",
    "print(mu)\n",
    "sigma=np.std(human_temp)\n",
    "print(sigma)"
   ]
  },
  {
   "cell_type": "markdown",
   "metadata": {},
   "source": [
    "I will use one sample test here since I have to compare sample mean to a given number whichin this case is equal to population mean of 98.6"
   ]
  },
  {
   "cell_type": "markdown",
   "metadata": {},
   "source": [
    "Since the sample size is greater than 50 it will be appropriate to use Z-statistic but using T-staistic should also give the same results since t-distrubtion tends to follow normal distrubtion for large sample size "
   ]
  },
  {
   "cell_type": "code",
   "execution_count": 42,
   "metadata": {
    "collapsed": false
   },
   "outputs": [
    {
     "name": "stdout",
     "output_type": "stream",
     "text": [
      "The Z Statistic is: -5.47592520208\n",
      "And the pvalue is: 2.17615758294e-08\n"
     ]
    }
   ],
   "source": [
    "#Z-Staistic\n",
    "population_mean=98.6\n",
    "Z_value = (mu-population_mean)/(sigma/np.sqrt(len(human_temp)))\n",
    "print('The Z Statistic is: %s' % Z_value)\n",
    "p_value =stats.norm.cdf(Z_value)\n",
    "print('And the pvalue is: %s' % p_value)"
   ]
  },
  {
   "cell_type": "markdown",
   "metadata": {
    "collapsed": false
   },
   "source": [
    "Now performing t-test on the above sample human_temp"
   ]
  },
  {
   "cell_type": "code",
   "execution_count": 51,
   "metadata": {
    "collapsed": false
   },
   "outputs": [
    {
     "name": "stdout",
     "output_type": "stream",
     "text": [
      "The value of t_statistic is: -5.45482329236\n",
      "The pvalue is: 2.41063204156e-07\n"
     ]
    }
   ],
   "source": [
    "#T-test\n",
    "t_statistic,pvalue=stats.ttest_1samp(human_temp,population_mean)\n",
    "print('The value of t_statistic is: %s' %t_statistic)\n",
    "print('The pvalue is: %s' %pvalue)"
   ]
  },
  {
   "cell_type": "markdown",
   "metadata": {
    "collapsed": false
   },
   "source": [
    "It can be seen from above that vlaues from t-test are similar to Z test so it proves the point t-distrubtion tends to follow normal distrubtion for large sample size "
   ]
  },
  {
   "cell_type": "markdown",
   "metadata": {},
   "source": [
    "Since the p-value is very small this states that we can reject the null hypothesis that avergae human temp is equal to true population mean 98.6 "
   ]
  },
  {
   "cell_type": "code",
   "execution_count": 53,
   "metadata": {
    "collapsed": false
   },
   "outputs": [
    {
     "data": {
      "text/plain": [
       "array([  98.2,   96.3,   98.2,   96.9,   99.9,   99. ,   99.3,   97.2,\n",
       "        100. ,   96.4])"
      ]
     },
     "execution_count": 53,
     "metadata": {},
     "output_type": "execute_result"
    }
   ],
   "source": [
    "#Extract the sample size of 10\n",
    "human_temp_10=np.random.choice(human_temp,size=10)\n",
    "human_temp_10"
   ]
  },
  {
   "cell_type": "code",
   "execution_count": 56,
   "metadata": {
    "collapsed": false
   },
   "outputs": [
    {
     "name": "stdout",
     "output_type": "stream",
     "text": [
      "98.14\n",
      "1.32227077409\n"
     ]
    }
   ],
   "source": [
    "#Summary Statistics\n",
    "mu_10=np.mean(human_temp_10)\n",
    "print(mu_10)\n",
    "sigma_10=np.std(human_temp_10)\n",
    "print(sigma_10)"
   ]
  },
  {
   "cell_type": "markdown",
   "metadata": {},
   "source": [
    "Now Since the sample size is small that is less than 30 it makes sense to use t-test/statistic since normal distrubtion tends to be inaccurate for small sample size "
   ]
  },
  {
   "cell_type": "markdown",
   "metadata": {},
   "source": [
    "Using One sample t-test "
   ]
  },
  {
   "cell_type": "code",
   "execution_count": 55,
   "metadata": {
    "collapsed": false
   },
   "outputs": [
    {
     "name": "stdout",
     "output_type": "stream",
     "text": [
      "The value of Tstaistic : -1.04365915594\n",
      "THe pvalue is: 0.323864436311\n"
     ]
    }
   ],
   "source": [
    "T_statistic,P_value = stats.ttest_1samp(human_temp_10,population_mean) #population_mean=98.6\n",
    "print('The value of Tstaistic : %s' %T_statistic)\n",
    "print('THe pvalue is: %s' %P_value)"
   ]
  },
  {
   "cell_type": "markdown",
   "metadata": {
    "collapsed": true
   },
   "source": [
    "Performing Z-test to comapre the results"
   ]
  },
  {
   "cell_type": "code",
   "execution_count": 59,
   "metadata": {
    "collapsed": false
   },
   "outputs": [
    {
     "name": "stdout",
     "output_type": "stream",
     "text": [
      "The z-Statistic will be: -1.6879460925\n",
      "The pvalue will be: 0.135641370129\n"
     ]
    }
   ],
   "source": [
    "Z10_value=(mu_10-population_mean)/(sigma_10/np.sqrt(len(human_temp_10)))\n",
    "print('The z-Statistic will be: %s'%T_value)\n",
    "p_10=stats.norm.cdf(Z10_value)\n",
    "print('The pvalue will be: %s'%p_10)"
   ]
  },
  {
   "cell_type": "markdown",
   "metadata": {},
   "source": [
    "By Comaring t-statisctic and z-statistic it can be seen t value is greater than z value also pvalue for t distribution is gretater than pvalue for  normal distribution which indicates it is heavy on tails and allows the confidence intervals to cast a larger net  "
   ]
  },
  {
   "cell_type": "markdown",
   "metadata": {},
   "source": [
    "# At what temperature should we consider someone's temperature to be \"abnormal\"?"
   ]
  },
  {
   "cell_type": "code",
   "execution_count": 60,
   "metadata": {
    "collapsed": false
   },
   "outputs": [
    {
     "name": "stdout",
     "output_type": "stream",
     "text": [
      "z-critical value:\n",
      "1.95996398454\n",
      "Confidence interval:\n",
      "(98.123682111456617, 98.374779427004881)\n"
     ]
    }
   ],
   "source": [
    "# Taking 95% confidence interval\n",
    "z_critical = stats.norm.ppf(q = 0.975) #taking q=0.975 since two sided test \n",
    "print(\"z-critical value:\")              # Check the z-critical value\n",
    "print(z_critical)\n",
    "margin_of_error = z_critical * (sigma/np.sqrt(len(human_temp)))\n",
    "confidence_interval = (mu- margin_of_error,\n",
    "                       mu + margin_of_error) \n",
    "print(\"Confidence interval:\")\n",
    "print(confidence_interval)"
   ]
  },
  {
   "cell_type": "markdown",
   "metadata": {
    "collapsed": true
   },
   "source": [
    "If the tempreature is outside the above mentioned limits than it is considered abnormal with marging of error of 5%"
   ]
  },
  {
   "cell_type": "markdown",
   "metadata": {},
   "source": [
    "# Is there a significant difference between males and females in normal temperature?"
   ]
  },
  {
   "cell_type": "markdown",
   "metadata": {},
   "source": [
    "Null hypothesis Ho: temp_males=temp_females\n"
   ]
  },
  {
   "cell_type": "markdown",
   "metadata": {},
   "source": [
    "ALternate Hypothesis H1: temp_males != temp_females"
   ]
  },
  {
   "cell_type": "code",
   "execution_count": null,
   "metadata": {
    "collapsed": false
   },
   "outputs": [],
   "source": [
    "df.head()"
   ]
  },
  {
   "cell_type": "code",
   "execution_count": 69,
   "metadata": {
    "collapsed": false
   },
   "outputs": [
    {
     "data": {
      "text/plain": [
       "array([ 97.8,  99.2,  98. ,  98.8,  98.2,  98.2,  99.4,  98.2,  98.6,\n",
       "        98.4,  97.8,  98.1,  98.3,  98.5,  98.6,  99.3,  99.5,  99.1,\n",
       "        98.3,  98.4,  96.9,  97.2,  97.4,  97.4,  97.9,  97.1,  98.6,\n",
       "        98.2,  97.6,  98.4,  98.6,  97.4,  98.6,  98.9,  98. ,  98.8,\n",
       "        99. ,  98.8,  98.4,  97.4,  97.6,  98. ,  97.5,  97.1,  98. ,\n",
       "        98.7,  98.1,  97.8,  97.1,  97.8,  98. ,  99. ,  98.5,  97.6,\n",
       "        96.7,  97. ,  98.6,  97.3,  99. ,  98. ,  98.7,  97.5,  96.3,\n",
       "        97.7,  97.9])"
      ]
     },
     "execution_count": 69,
     "metadata": {},
     "output_type": "execute_result"
    }
   ],
   "source": [
    "#Extracting male temperatures\n",
    "temp_male=df[df.gender=='M']\n",
    "temp_male=temp_male['temperature'].values\n",
    "temp_male\n"
   ]
  },
  {
   "cell_type": "code",
   "execution_count": 70,
   "metadata": {
    "collapsed": false
   },
   "outputs": [
    {
     "data": {
      "text/plain": [
       "array([  99.3,   98.4,   99.2,   98. ,   98.4,   98.6,   98.8,   96.7,\n",
       "         98.7,   97.8,   98.8,   98.3,   97.2,   98.3,   98. ,   97.8,\n",
       "         98.2,   98.4,   97.6,   97.9,   96.4,   98.4,   99. ,   97.9,\n",
       "         98.9,   98.3,   98.5,   98.2,   98.6,   98.8,   98.2,   99.1,\n",
       "         98.2,   98.7,   97.4,   98.7,   98.1,   97.7,   98. ,   98.8,\n",
       "         99.2,   98.6,   98.6,  100. ,   98.8,   96.8,   99.9,   98.7,\n",
       "         98.8,   98. ,   99.4,   98.7,   98.8,   98. ,   98.2,   99.1,\n",
       "        100.8,   97.8,   98.4,   97.7,   97.9,   99. ,   97.2,   98.2,\n",
       "         98.7])"
      ]
     },
     "execution_count": 70,
     "metadata": {},
     "output_type": "execute_result"
    }
   ],
   "source": [
    "#Extracting Female temperature\n",
    "temp_female=df[df.gender=='F']\n",
    "temp_female=temp_female['temperature'].values\n",
    "temp_female"
   ]
  },
  {
   "cell_type": "markdown",
   "metadata": {},
   "source": [
    "Using Mann-Whitney-Wilcoxon (MWW) RankSum test to determine whether there is a temp difference between males and females\n",
    "\n",
    "The MWW RankSum test is a useful test to determine if two distributions are significantly different or not. Unlike the t-test, the RankSum test does not assume that the data are normally distributed, potentially providing a more accurate assessment of the data sets."
   ]
  },
  {
   "cell_type": "code",
   "execution_count": 71,
   "metadata": {
    "collapsed": false
   },
   "outputs": [
    {
     "data": {
      "text/plain": [
       "RanksumsResult(statistic=-2.2140740398262664, pvalue=0.02682368611352481)"
      ]
     },
     "execution_count": 71,
     "metadata": {},
     "output_type": "execute_result"
    }
   ],
   "source": [
    "stats.ranksums(temp_male,temp_female)"
   ]
  },
  {
   "cell_type": "markdown",
   "metadata": {},
   "source": [
    "From the above p-value (since it is less than 0.05) we can say that there is significant differecne in Average Temperatures of male and female   "
   ]
  },
  {
   "cell_type": "markdown",
   "metadata": {},
   "source": [
    "To Verify the above fact using 2 sample t test"
   ]
  },
  {
   "cell_type": "code",
   "execution_count": 74,
   "metadata": {
    "collapsed": false
   },
   "outputs": [
    {
     "data": {
      "text/plain": [
       "Ttest_indResult(statistic=-2.2854345381656103, pvalue=0.023931883122395609)"
      ]
     },
     "execution_count": 74,
     "metadata": {},
     "output_type": "execute_result"
    }
   ],
   "source": [
    "stats.ttest_ind(temp_male,temp_female)"
   ]
  },
  {
   "cell_type": "markdown",
   "metadata": {},
   "source": [
    "which gives a similar pvalue of 0.02 which is less than 0.05 so we can reject the null hypothesis that average temperatures of female and men are same"
   ]
  }
 ],
 "metadata": {
  "anaconda-cloud": {},
  "kernelspec": {
   "display_name": "Python [default]",
   "language": "python",
   "name": "python3"
  },
  "language_info": {
   "codemirror_mode": {
    "name": "ipython",
    "version": 3
   },
   "file_extension": ".py",
   "mimetype": "text/x-python",
   "name": "python",
   "nbconvert_exporter": "python",
   "pygments_lexer": "ipython3",
   "version": "3.5.4"
  }
 },
 "nbformat": 4,
 "nbformat_minor": 1
}
