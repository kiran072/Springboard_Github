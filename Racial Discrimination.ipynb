{
 "cells": [
  {
   "cell_type": "code",
   "execution_count": 55,
   "metadata": {
    "collapsed": true
   },
   "outputs": [],
   "source": [
    "from IPython.display import HTML\n",
    "HTML('<iframe src=http://stanford.edu/~mwaskom/software/seaborn/index.html width=700 height=350></iframe>')\n",
    "import matplotlib.pyplot as plt\n",
    "import pandas as pd\n",
    "import numpy as np\n",
    "import seaborn as sns\n",
    "from scipy import stats"
   ]
  },
  {
   "cell_type": "markdown",
   "metadata": {},
   "source": [
    "# Examining Racial Discrimination in the US Job Market\n",
    "\n",
    "### Background\n",
    "Racial discrimination continues to be pervasive in cultures throughout the world. Researchers examined the level of racial discrimination in the United States labor market by randomly assigning identical résumés to black-sounding or white-sounding names and observing the impact on requests for interviews from employers.\n",
    "\n",
    "### Data\n",
    "In the dataset provided, each row represents a resume. The 'race' column has two values, 'b' and 'w', indicating black-sounding and white-sounding. The column 'call' has two values, 1 and 0, indicating whether the resume received a call from employers or not.\n",
    "\n",
    "Note that the 'b' and 'w' values in race are assigned randomly to the resumes when presented to the employer."
   ]
  },
  {
   "cell_type": "markdown",
   "metadata": {},
   "source": [
    "### Exercises\n",
    "You will perform a statistical analysis to establish whether race has a significant impact on the rate of callbacks for resumes.\n",
    "\n",
    "Answer the following questions **in this notebook below and submit to your Github account**. \n",
    "\n",
    "   1. What test is appropriate for this problem? Does CLT apply?\n",
    "   2. What are the null and alternate hypotheses?\n",
    "   3. Compute margin of error, confidence interval, and p-value.\n",
    "   4. Write a story describing the statistical significance in the context or the original problem.\n",
    "   5. Does your analysis mean that race/name is the most important factor in callback success? Why or why not? If not, how would you amend your analysis?"
   ]
  },
  {
   "cell_type": "markdown",
   "metadata": {},
   "source": [
    "# 1. What test is appropriate for this problem? Does CLT apply?\n",
    "\n",
    "We have a categorical variable of interest measured in two populations, and we are interested in comparing the proportions of a certain category for the the two populations.\n",
    "\n",
    "So We will use hypothesis test for comparing two proportions\n",
    "\n",
    "Yes the Central imit theorem applies here\n"
   ]
  },
  {
   "cell_type": "markdown",
   "metadata": {},
   "source": [
    "# 2. What are the null and alternate hypotheses?\n",
    "\n",
    "Null Hypothesis H0 : We assume that number of proportion of callbacks to black sounding names(P_b) = proportion of callbacks to white sounding names (P_w)\n",
    "\n",
    "Alternate Hypothesis H1: We reject the null hypothesis and state that there is a significant difference between proportion of callbacks between black and white and there is racial discrimination in US job market"
   ]
  },
  {
   "cell_type": "markdown",
   "metadata": {},
   "source": [
    "# 3. Compute margin of error, confidence interval, and p-value."
   ]
  },
  {
   "cell_type": "code",
   "execution_count": 56,
   "metadata": {
    "collapsed": true
   },
   "outputs": [],
   "source": [
    "#read data\n",
    "data = pd.io.stata.read_stata('/home/kiran/Desktop/Springboard/Racial Discrimination/racial_disc/data/us_job_market_discrimination.dta')"
   ]
  },
  {
   "cell_type": "code",
   "execution_count": 57,
   "metadata": {
    "collapsed": false
   },
   "outputs": [
    {
     "name": "stdout",
     "output_type": "stream",
     "text": [
      "2435 2435\n",
      "235.0 157.0\n",
      "0.0965092402464 0.064476386037\n"
     ]
    }
   ],
   "source": [
    "# First of all separate the resumes by race: b and w.\n",
    "df_white=data[data.race=='w']\n",
    "df_black=data[data.race=='b']\n",
    "\n",
    "# Total Number of resumes per race:\n",
    "w_total=len(df_white.race)\n",
    "b_total=len(df_black.race)\n",
    "print(w_total,b_total)\n",
    "\n",
    "# number of callbacks for black-sounding names\n",
    "b_calls=sum(data[data.race=='b'].call)\n",
    "\n",
    "# number of callbacks for white-sounding names\n",
    "w_calls=sum(data[data.race=='w'].call)\n",
    "print(w_calls,b_calls)\n",
    "\n",
    "# Sample proportions:\n",
    "w_sample_p = w_calls/w_total\n",
    "b_sample_p = b_calls/b_total\n",
    "\n",
    "print (w_sample_p,b_sample_p)\n"
   ]
  },
  {
   "cell_type": "code",
   "execution_count": 58,
   "metadata": {
    "collapsed": false
   },
   "outputs": [
    {
     "name": "stdout",
     "output_type": "stream",
     "text": [
      "3.5809119833e-05 2.47717378565e-05\n"
     ]
    }
   ],
   "source": [
    "# Sampling variance for whites and blacks sample\n",
    "\n",
    "var_white= (w_sample_p*(1-w_sample_p))/w_total\n",
    "var_black= (b_sample_p*(1-b_sample_p))/b_total\n",
    "\n",
    "print(var_white,var_black)"
   ]
  },
  {
   "cell_type": "markdown",
   "metadata": {
    "collapsed": false
   },
   "source": [
    "Now to compute 95% confidence interval we will take sampling distribution of difference of proportions between black and white\n",
    "\n",
    "for which the mean will be diffrence in proportions of black and white and standard deviation will be sqrt(var_white+var_black)\n"
   ]
  },
  {
   "cell_type": "code",
   "execution_count": 59,
   "metadata": {
    "collapsed": false
   },
   "outputs": [
    {
     "name": "stdout",
     "output_type": "stream",
     "text": [
      "0.0320328542094 0.00778337058668\n"
     ]
    }
   ],
   "source": [
    "mean_sample_combined= w_sample_p-b_sample_p\n",
    "std_deviation_combined=np.sqrt(var_white+var_black)\n",
    "print(mean_sample_combined,std_deviation_combined)"
   ]
  },
  {
   "cell_type": "markdown",
   "metadata": {
    "collapsed": true
   },
   "source": [
    "Now 95% confidence interval will be that there is 95% chance that P1-P2 is within distance(d) of 0.0320 \n",
    "Now since the sample size is large we assume it follows normal distribution  \n"
   ]
  },
  {
   "cell_type": "code",
   "execution_count": 60,
   "metadata": {
    "collapsed": false
   },
   "outputs": [
    {
     "name": "stdout",
     "output_type": "stream",
     "text": [
      "1.95996398454\n"
     ]
    }
   ],
   "source": [
    "#Now find Z score corrosopnding to 97.5 since it is a two tailed distribution so 2.5 % on both sides\n",
    "Z=stats.norm.ppf(0.975)\n",
    "print(Z)"
   ]
  },
  {
   "cell_type": "markdown",
   "metadata": {},
   "source": [
    "#So distance (d) is 1.96*std_deviatin of population. But the problem is we don't know the true standard deviation of population so we will approximate it using sample proportions standard deviation and use it to calculate true population standard deviation\n",
    "\n"
   ]
  },
  {
   "cell_type": "code",
   "execution_count": 61,
   "metadata": {
    "collapsed": false
   },
   "outputs": [
    {
     "name": "stdout",
     "output_type": "stream",
     "text": [
      "0.0152551260282\n"
     ]
    }
   ],
   "source": [
    "d = Z*std_deviation_combined # distance d\n",
    "print(d)"
   ]
  },
  {
   "cell_type": "code",
   "execution_count": 62,
   "metadata": {
    "collapsed": false
   },
   "outputs": [
    {
     "name": "stdout",
     "output_type": "stream",
     "text": [
      "0.0167777281812 0.0472879802377\n"
     ]
    }
   ],
   "source": [
    "Upper_CI = mean_sample_combined+d     #95% upper confidence interval\n",
    "Lower_CI= mean_sample_combined -d     #95% lower confidence interval\n",
    "\n",
    "print(Lower_CI,Upper_CI)"
   ]
  },
  {
   "cell_type": "markdown",
   "metadata": {},
   "source": [
    "THe above reult indicates thatthere is a 95 % chance that the difference in callbacks between white sounding names will receive morecallbacks than black sounding names"
   ]
  },
  {
   "cell_type": "markdown",
   "metadata": {},
   "source": [
    "# Hypothesis test to find p-value"
   ]
  },
  {
   "cell_type": "markdown",
   "metadata": {},
   "source": [
    "Ho: No difference in callbacks between black and white P_w =P_b i.e P_w-P_b=0\n",
    "H1 : THere is difference in callbacks between black and white P_w != P_b i.e P_w-P_b !=0\n",
    "Margin of error (alpha) = 5%\n",
    "Assumption is if H0: P(Pw-Pb|H0)<5% we will reject null hypothesis\n",
    "\n",
    "SO now we are finding a probablity of finding something that extreme equal to greater than mean_sample_combined which is equal to diffrence in proportion betwen black and white.\n",
    "\n",
    "We will first calculate true proportion by considering there is no difference in callbacks between black and white and then plug it in to calculate Z value assuming null hypothesis is true"
   ]
  },
  {
   "cell_type": "code",
   "execution_count": 63,
   "metadata": {
    "collapsed": false
   },
   "outputs": [
    {
     "name": "stdout",
     "output_type": "stream",
     "text": [
      "4.10841215243 1.99194341879e-05\n"
     ]
    }
   ],
   "source": [
    "true_proportion= (b_calls+w_calls)/(w_total+b_total) #assuming there is no diffrenece\n",
    "true_std_deviation= np.sqrt((2*true_proportion*(1-true_proportion))/2435)\n",
    "Z_value = (mean_sample_combined-0)/true_std_deviation\n",
    "\n",
    "\n",
    "#Now finding p value\n",
    "p_value= 1-stats.norm.cdf(Z_value) # since we want to find probability of gretaer than or equl to thatZ-value so \n",
    "                                    #doing 1-CDF.\n",
    "\n",
    "print(Z_value,p_value)"
   ]
  },
  {
   "cell_type": "markdown",
   "metadata": {},
   "source": [
    "From the above p_value we can say that there is less than 5% chance og getting that Z value and we reject the null hypothesis with 95% confidence that there is a significant difference in call backs to black sound names and white sounding names and hence we can sya that there exists racial discrimination in US job market to some extent."
   ]
  },
  {
   "cell_type": "code",
   "execution_count": null,
   "metadata": {
    "collapsed": true
   },
   "outputs": [],
   "source": []
  }
 ],
 "metadata": {
  "anaconda-cloud": {},
  "kernelspec": {
   "display_name": "Python [conda root]",
   "language": "python",
   "name": "conda-root-py"
  },
  "language_info": {
   "codemirror_mode": {
    "name": "ipython",
    "version": 3
   },
   "file_extension": ".py",
   "mimetype": "text/x-python",
   "name": "python",
   "nbconvert_exporter": "python",
   "pygments_lexer": "ipython3",
   "version": "3.5.4"
  }
 },
 "nbformat": 4,
 "nbformat_minor": 1
}
