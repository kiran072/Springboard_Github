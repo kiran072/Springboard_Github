{
 "cells": [
  {
   "cell_type": "markdown",
   "metadata": {},
   "source": [
    "# What is the True Normal Human Body Temperature?\n",
    "\n",
    "Background\n",
    "\n",
    "The mean normal body temperature was held to be 37∘C or 98.6∘ F for more than 120 years since it was first conceptualized and reported by Carl Wunderlich in a famous 1868 book. But, is this value statistically correct?"
   ]
  },
  {
   "cell_type": "markdown",
   "metadata": {},
   "source": [
    "# Exercises\n",
    "\n",
    "In this exercise, you will analyze a dataset of human body temperatures and employ the concepts of hypothesis testing, confidence intervals, and statistical significance.\n",
    "\n",
    "Answer the following questions in this notebook below and submit to your Github account.\n",
    "\n",
    "Is the distribution of body temperatures normal?\n",
    "\n",
    "Although this is not a requirement for CLT to hold (read CLT carefully), it gives us some peace of mind that the population may also be normally distributed if we assume that this sample is representative of the population.\n",
    "\n",
    "Is the sample size large? Are the observations independent?\n",
    "\n",
    "Remember that this is a condition for the CLT, and hence the statistical tests we are using, to apply.\n",
    "\n",
    "Is the true population mean really 98.6 degrees F?\n",
    "\n",
    "Would you use a one-sample or two-sample test? Why?\n",
    "\n",
    "In this situation, is it appropriate to use the t or z statistic?\n",
    "\n",
    "Now try using the other test. How is the result be different? Why?\n",
    "\n",
    "Draw a small sample of size 10 from the data and repeat both tests.\n",
    "\n",
    "Which one is the correct one to use?\n",
    "\n",
    "What do you notice? What does this tell you about the difference in application of the `t\n",
    "\n",
    "At what temperature should we consider someone's temperature to be \"abnormal\"?\n",
    "\n",
    "Start by computing the margin of error and confidence interval.\n",
    "\n",
    "Is there a significant difference between males and females in normal temperature?\n",
    "\n",
    "What test did you use and why?\n",
    "\n",
    "Write a story with your conclusion in the context of the original problem."
   ]
  },
  {
   "cell_type": "code",
   "execution_count": 8,
   "metadata": {
    "collapsed": true
   },
   "outputs": [],
   "source": [
    "from IPython.display import HTML\n",
    "HTML('<iframe src=http://stanford.edu/~mwaskom/software/seaborn/index.html width=700 height=350></iframe>')\n",
    "import matplotlib.pyplot as plt\n",
    "import pandas as pd\n",
    "import numpy as np\n",
    "import seaborn as sns\n",
    "from scipy import stats"
   ]
  },
  {
   "cell_type": "code",
   "execution_count": 9,
   "metadata": {
    "collapsed": true
   },
   "outputs": [],
   "source": [
    "#seaborn settings\n",
    "sns.set_palette(\"deep\", desat=.6)\n",
    "sns.set_context(rc={\"figure.figsize\": (8,4)})"
   ]
  },
  {
   "cell_type": "code",
   "execution_count": 10,
   "metadata": {
    "collapsed": true
   },
   "outputs": [],
   "source": [
    "file= '/home/kiran/Desktop/Springboard/human_temp/data/human_body_temperature.csv'"
   ]
  },
  {
   "cell_type": "code",
   "execution_count": 11,
   "metadata": {
    "collapsed": false
   },
   "outputs": [],
   "source": [
    "df=pd.read_csv(file)"
   ]
  },
  {
   "cell_type": "code",
   "execution_count": 12,
   "metadata": {
    "collapsed": false
   },
   "outputs": [
    {
     "data": {
      "text/html": [
       "<div>\n",
       "<style>\n",
       "    .dataframe thead tr:only-child th {\n",
       "        text-align: right;\n",
       "    }\n",
       "\n",
       "    .dataframe thead th {\n",
       "        text-align: left;\n",
       "    }\n",
       "\n",
       "    .dataframe tbody tr th {\n",
       "        vertical-align: top;\n",
       "    }\n",
       "</style>\n",
       "<table border=\"1\" class=\"dataframe\">\n",
       "  <thead>\n",
       "    <tr style=\"text-align: right;\">\n",
       "      <th></th>\n",
       "      <th>temperature</th>\n",
       "      <th>gender</th>\n",
       "      <th>heart_rate</th>\n",
       "    </tr>\n",
       "  </thead>\n",
       "  <tbody>\n",
       "    <tr>\n",
       "      <th>0</th>\n",
       "      <td>99.3</td>\n",
       "      <td>F</td>\n",
       "      <td>68.0</td>\n",
       "    </tr>\n",
       "    <tr>\n",
       "      <th>1</th>\n",
       "      <td>98.4</td>\n",
       "      <td>F</td>\n",
       "      <td>81.0</td>\n",
       "    </tr>\n",
       "    <tr>\n",
       "      <th>2</th>\n",
       "      <td>97.8</td>\n",
       "      <td>M</td>\n",
       "      <td>73.0</td>\n",
       "    </tr>\n",
       "    <tr>\n",
       "      <th>3</th>\n",
       "      <td>99.2</td>\n",
       "      <td>F</td>\n",
       "      <td>66.0</td>\n",
       "    </tr>\n",
       "    <tr>\n",
       "      <th>4</th>\n",
       "      <td>98.0</td>\n",
       "      <td>F</td>\n",
       "      <td>73.0</td>\n",
       "    </tr>\n",
       "  </tbody>\n",
       "</table>\n",
       "</div>"
      ],
      "text/plain": [
       "   temperature gender  heart_rate\n",
       "0         99.3      F        68.0\n",
       "1         98.4      F        81.0\n",
       "2         97.8      M        73.0\n",
       "3         99.2      F        66.0\n",
       "4         98.0      F        73.0"
      ]
     },
     "execution_count": 12,
     "metadata": {},
     "output_type": "execute_result"
    }
   ],
   "source": [
    "df.head(5)"
   ]
  },
  {
   "cell_type": "code",
   "execution_count": 13,
   "metadata": {
    "collapsed": false
   },
   "outputs": [
    {
     "data": {
      "image/png": "[encoded data removed]",
      "text/plain": [
       "<matplotlib.figure.Figure at 0x7f29666f66a0>"
      ]
     },
     "metadata": {},
     "output_type": "display_data"
    }
   ],
   "source": [
    "# Plotting histogram to check the distribution\n",
    "human_temp=df['temperature'].values # extracted all the temperature values as numpy array\n",
    "n_data = len(human_temp)\n",
    "n_bins = np.sqrt(n_data)  # calculating number of bins\n",
    "n_bins = int(n_bins)\n",
    "n_bins = int(n_bins)\n",
    "_=plt.hist(human_temp,bins=n_bins,normed= True,histtype = 'step')\n",
    "plt.xlabel('human_temp')\n",
    "plt.ylabel('pdf')\n",
    "plt.show()\n",
    "\n",
    "#Below graph looks like Normal Distribution"
   ]
  },
  {
   "cell_type": "code",
   "execution_count": 14,
   "metadata": {
    "collapsed": false
   },
   "outputs": [
    {
     "name": "stdout",
     "output_type": "stream",
     "text": [
      "98.2492307692\n",
      "0.730357778905\n"
     ]
    }
   ],
   "source": [
    "# Summary staistics for the temperature column\n",
    "mu= np.mean(human_temp)\n",
    "print(mu)\n",
    "sigma=np.std(human_temp)\n",
    "print(sigma)\n"
   ]
  },
  {
   "cell_type": "code",
   "execution_count": 15,
   "metadata": {
    "collapsed": true
   },
   "outputs": [],
   "source": [
    "# Writing function to calculate ECDF\n",
    "def ecdf(data):\n",
    "    \"\"\"Compute ECDF for a one-dimensional array of measurements.\"\"\"\n",
    "   \n",
    "       \n",
    "    # Number of data points: n\n",
    "    n =len(data)\n",
    "\n",
    "    # x-data for the ECDF: x\n",
    "\n",
    "    x= np.sort(data)\n",
    "    # y-data for the ECDF: y\n",
    "    y = np.arange(1, n+1) / n\n",
    "\n",
    "    return x, y"
   ]
  },
  {
   "cell_type": "code",
   "execution_count": 16,
   "metadata": {
    "collapsed": false
   },
   "outputs": [
    {
     "data": {
      "image/png": "[encoded data removed]",
      "text/plain": [
       "<matplotlib.figure.Figure at 0x7f29666b8160>"
      ]
     },
     "metadata": {},
     "output_type": "display_data"
    }
   ],
   "source": [
    "## Using ECDF plot to dtermine Normal Distrubution\n",
    "\n",
    "# Compute mean and standard deviation: mu, sigma\n",
    "mu = np.mean(human_temp)\n",
    "sigma = np.std(human_temp)\n",
    "\n",
    "# Sample out of a normal distribution with this mu and sigma: samples\n",
    "samples = np.random.normal(mu,sigma,10000)\n",
    "\n",
    "# Get the CDF of the samples and of the data\n",
    "x_theor,y_theor =ecdf(samples)\n",
    "x,y = ecdf(human_temp)\n",
    "\n",
    "# Plot the CDFs and show the plot\n",
    "_ = plt.plot(x_theor, y_theor)\n",
    "_ = plt.plot(x, y, marker='.', linestyle='none')\n",
    "plt.margins(0.02)\n",
    "_ = plt.xlabel('Human Temp in F (farenheight)')\n",
    "_ = plt.ylabel('CDF')\n",
    "_=plt.legend(('theoritical','practical'),loc ='lower right')\n",
    "plt.show()\n",
    "\n",
    "## From the figure below it looks like distrubiton is normal since it closely resembles the theoritical normal distribution"
   ]
  },
  {
   "cell_type": "code",
   "execution_count": 17,
   "metadata": {
    "collapsed": false
   },
   "outputs": [
    {
     "data": {
      "text/plain": [
       "130"
      ]
     },
     "execution_count": 17,
     "metadata": {},
     "output_type": "execute_result"
    }
   ],
   "source": [
    "#Size of the dataset\n",
    "len(human_temp)\n",
    "\n",
    "# Since the sample size is greater than 50 the sample size is large and since the distribution follows normal distribution \n",
    "# so the assumption is values are independent of each ther\n"
   ]
  },
  {
   "cell_type": "markdown",
   "metadata": {},
   "source": [
    "# Is the true population mean really 98.6 degrees F?\n",
    " For this I will use one sample test since here I am comparing one set of data to a single number mean 98.6 F\n",
    " Also since the sample size is large i.e  >30 I will use z staistic\n"
   ]
  },
  {
   "cell_type": "markdown",
   "metadata": {},
   "source": [
    "Our Null Hypothesis H0: Average Human Temperature = 98.6 \n",
    "Alternate Hypothesis H1: Avergae human temerature is <98.6"
   ]
  },
  {
   "cell_type": "code",
   "execution_count": 18,
   "metadata": {
    "collapsed": false
   },
   "outputs": [
    {
     "name": "stdout",
     "output_type": "stream",
     "text": [
      "98.2492307692\n",
      "0.730357778905\n"
     ]
    }
   ],
   "source": [
    "# Summary staistics for the temperature column\n",
    "mu= np.mean(human_temp)\n",
    "print(mu)\n",
    "sigma=np.std(human_temp)\n",
    "print(sigma)"
   ]
  },
  {
   "cell_type": "code",
   "execution_count": 19,
   "metadata": {
    "collapsed": false
   },
   "outputs": [
    {
     "name": "stdout",
     "output_type": "stream",
     "text": [
      "The Z Statistic is: -5.47592520208\n"
     ]
    }
   ],
   "source": [
    "population_mean=98.6\n",
    "Z_value = (mu-population_mean)/(sigma/np.sqrt(len(human_temp)))\n",
    "print('The Z Statistic is: %s' % Z_value)"
   ]
  },
  {
   "cell_type": "code",
   "execution_count": 20,
   "metadata": {
    "collapsed": true
   },
   "outputs": [],
   "source": [
    "# The value of other t statistic will be the same since the sample size is large"
   ]
  },
  {
   "cell_type": "code",
   "execution_count": 21,
   "metadata": {
    "collapsed": true
   },
   "outputs": [],
   "source": [
    "#P value calculation\n",
    "new_mean_value= 98.6 #F\n",
    "Mean_temp_shifted= human_temp-np.mean(human_temp)+ new_mean_value\n",
    "#Now I will use bootstrap replicates to repeat the sampling of human temp large number of times with shifted mean.\n",
    "#For that I will write a boot strap function\n",
    "# Bootstarp Function\n",
    "def draw_bs_reps(data, func, size=1):\n",
    "    \"\"\"Draw bootstrap replicates.\"\"\"\n",
    "\n",
    "    def bootstrap_replicate_1d(data, func):\n",
    "        return func(np.random.choice(data, size=len(data)))\n",
    "    # Initialize array of replicates: bs_replicates\n",
    "    bs_replicates = np.empty(size)\n",
    "\n",
    "    # Generate replicates\n",
    "    for i in range(size):\n",
    "        bs_replicates[i] = bootstrap_replicate_1d(data,func)\n",
    "    return bs_replicates\n"
   ]
  },
  {
   "cell_type": "code",
   "execution_count": 22,
   "metadata": {
    "collapsed": true
   },
   "outputs": [],
   "source": [
    "bs_replicates = draw_bs_reps(Mean_temp_shifted,np.mean,10000)"
   ]
  },
  {
   "cell_type": "code",
   "execution_count": 23,
   "metadata": {
    "collapsed": false
   },
   "outputs": [
    {
     "name": "stdout",
     "output_type": "stream",
     "text": [
      "The p-value is : 0.0\n"
     ]
    }
   ],
   "source": [
    "#Computing the fraction of replicates that are less than or equal to obsereved mean_tmep of 98.6 F\n",
    "\n",
    "p =np.sum(bs_replicates<=np.mean(human_temp))/10000\n",
    "print('The p-value is : %s'% p)"
   ]
  },
  {
   "cell_type": "code",
   "execution_count": 24,
   "metadata": {
    "collapsed": true
   },
   "outputs": [],
   "source": [
    "# This states that we can accept the null hypothesis that avergae human temp is equal to true population mean 98.6 "
   ]
  },
  {
   "cell_type": "code",
   "execution_count": 25,
   "metadata": {
    "collapsed": false
   },
   "outputs": [
    {
     "data": {
      "text/plain": [
       "array([ 98.8,  97.2,  97.5,  98.4,  98.6,  98.2,  98.4,  98.8,  98. ,  97.4])"
      ]
     },
     "execution_count": 25,
     "metadata": {},
     "output_type": "execute_result"
    }
   ],
   "source": [
    "#Extract the sample size of 10\n",
    "human_temp_10=np.random.choice(human_temp,size=10)\n",
    "human_temp_10"
   ]
  },
  {
   "cell_type": "code",
   "execution_count": 26,
   "metadata": {
    "collapsed": true
   },
   "outputs": [],
   "source": [
    "#Now Since the sample size is small that is less than 30 so we wil use t-test/statistic"
   ]
  },
  {
   "cell_type": "code",
   "execution_count": 27,
   "metadata": {
    "collapsed": false
   },
   "outputs": [
    {
     "name": "stdout",
     "output_type": "stream",
     "text": [
      "98.13\n",
      "0.555067563455\n"
     ]
    }
   ],
   "source": [
    "#Summary Statistics\n",
    "mu_10=np.mean(human_temp_10)\n",
    "print(mu_10)\n",
    "sigma_10=np.std(human_temp_10)\n",
    "print(sigma_10)"
   ]
  },
  {
   "cell_type": "code",
   "execution_count": 28,
   "metadata": {
    "collapsed": false
   },
   "outputs": [
    {
     "name": "stdout",
     "output_type": "stream",
     "text": [
      "The t-value will be: -2.67763890044\n"
     ]
    }
   ],
   "source": [
    "T_value=(mu_10-population_mean)/(sigma_10/np.sqrt(len(human_temp_10)))\n",
    "print('The t-value will be: %s'%T_value)"
   ]
  },
  {
   "cell_type": "code",
   "execution_count": 29,
   "metadata": {
    "collapsed": true
   },
   "outputs": [],
   "source": [
    "#Since the sample size is small and population standard deviation is not know we can't calculate z-statistic for this case"
   ]
  },
  {
   "cell_type": "markdown",
   "metadata": {},
   "source": [
    "# At what temperature should we consider someone's temperature to be \"abnormal\"?"
   ]
  },
  {
   "cell_type": "code",
   "execution_count": 30,
   "metadata": {
    "collapsed": true
   },
   "outputs": [],
   "source": [
    "#I will use the Bootstrap function which I wrote in previou steps to generate 10000 samples of measurements of human tempreture"
   ]
  },
  {
   "cell_type": "code",
   "execution_count": 31,
   "metadata": {
    "collapsed": false
   },
   "outputs": [
    {
     "name": "stdout",
     "output_type": "stream",
     "text": [
      "THe SEM is: 0.0640566146952\n"
     ]
    }
   ],
   "source": [
    "bs_replicates_temp=draw_bs_reps(human_temp,np.mean,10000)\n",
    "sem= np.std(human_temp)/np.sqrt(len(human_temp))#Standard error of mean\n",
    "print('THe SEM is: %s' %sem)"
   ]
  },
  {
   "cell_type": "code",
   "execution_count": 32,
   "metadata": {
    "collapsed": false
   },
   "outputs": [
    {
     "data": {
      "image/png": "[encoded data removed]",
      "text/plain": [
       "<matplotlib.figure.Figure at 0x7f2962e284a8>"
      ]
     },
     "metadata": {},
     "output_type": "display_data"
    }
   ],
   "source": [
    "# Histogram of results\n",
    "_=plt.hist(bs_replicates_temp,bins=50,normed= True)\n",
    "_=plt.xlabel('human temp')\n",
    "_=plt.ylabel('PDF')\n",
    "plt.show()"
   ]
  },
  {
   "cell_type": "code",
   "execution_count": 33,
   "metadata": {
    "collapsed": false
   },
   "outputs": [
    {
     "data": {
      "text/plain": [
       "array([ 98.47538462,  98.72771154])"
      ]
     },
     "execution_count": 33,
     "metadata": {},
     "output_type": "execute_result"
    }
   ],
   "source": [
    "# The 95% confidence interval are as follows:\n",
    "conf_int=np.percentile(bs_replicates,[2.5,97.5])\n",
    "conf_int"
   ]
  },
  {
   "cell_type": "code",
   "execution_count": 34,
   "metadata": {
    "collapsed": false
   },
   "outputs": [
    {
     "name": "stdout",
     "output_type": "stream",
     "text": [
      "95% confidence interval = [ 98.47538462  98.72771154] F\n"
     ]
    }
   ],
   "source": [
    "print('95% confidence interval =', conf_int,'F')\n",
    "#If the tempreature is outside this limits than it is considered abnormal with marging of error of 5%"
   ]
  },
  {
   "cell_type": "code",
   "execution_count": 35,
   "metadata": {
    "collapsed": true
   },
   "outputs": [],
   "source": [
    "#If the tempreature is outside this limits than it is considered abnormal with marging of error of 5%"
   ]
  },
  {
   "cell_type": "markdown",
   "metadata": {},
   "source": [
    "# Is there a significant difference between males and females in normal temperature?"
   ]
  },
  {
   "cell_type": "markdown",
   "metadata": {},
   "source": [
    "Null hypothesis Ho: temp_males=temp_females\n",
    "ALternate Hypothesis H1: temp_males != temp_females"
   ]
  },
  {
   "cell_type": "code",
   "execution_count": 36,
   "metadata": {
    "collapsed": false
   },
   "outputs": [
    {
     "data": {
      "text/html": [
       "<div>\n",
       "<style>\n",
       "    .dataframe thead tr:only-child th {\n",
       "        text-align: right;\n",
       "    }\n",
       "\n",
       "    .dataframe thead th {\n",
       "        text-align: left;\n",
       "    }\n",
       "\n",
       "    .dataframe tbody tr th {\n",
       "        vertical-align: top;\n",
       "    }\n",
       "</style>\n",
       "<table border=\"1\" class=\"dataframe\">\n",
       "  <thead>\n",
       "    <tr style=\"text-align: right;\">\n",
       "      <th></th>\n",
       "      <th>temperature</th>\n",
       "      <th>gender</th>\n",
       "      <th>heart_rate</th>\n",
       "    </tr>\n",
       "  </thead>\n",
       "  <tbody>\n",
       "    <tr>\n",
       "      <th>0</th>\n",
       "      <td>99.3</td>\n",
       "      <td>F</td>\n",
       "      <td>68.0</td>\n",
       "    </tr>\n",
       "    <tr>\n",
       "      <th>1</th>\n",
       "      <td>98.4</td>\n",
       "      <td>F</td>\n",
       "      <td>81.0</td>\n",
       "    </tr>\n",
       "    <tr>\n",
       "      <th>2</th>\n",
       "      <td>97.8</td>\n",
       "      <td>M</td>\n",
       "      <td>73.0</td>\n",
       "    </tr>\n",
       "    <tr>\n",
       "      <th>3</th>\n",
       "      <td>99.2</td>\n",
       "      <td>F</td>\n",
       "      <td>66.0</td>\n",
       "    </tr>\n",
       "    <tr>\n",
       "      <th>4</th>\n",
       "      <td>98.0</td>\n",
       "      <td>F</td>\n",
       "      <td>73.0</td>\n",
       "    </tr>\n",
       "  </tbody>\n",
       "</table>\n",
       "</div>"
      ],
      "text/plain": [
       "   temperature gender  heart_rate\n",
       "0         99.3      F        68.0\n",
       "1         98.4      F        81.0\n",
       "2         97.8      M        73.0\n",
       "3         99.2      F        66.0\n",
       "4         98.0      F        73.0"
      ]
     },
     "execution_count": 36,
     "metadata": {},
     "output_type": "execute_result"
    }
   ],
   "source": [
    "df.head()"
   ]
  },
  {
   "cell_type": "code",
   "execution_count": 37,
   "metadata": {
    "collapsed": false
   },
   "outputs": [
    {
     "data": {
      "text/plain": [
       "array([ 97.8,  99.2,  98. ,  98.8,  98.2,  98.2,  99.4,  98.2,  98.6,\n",
       "        98.4,  97.8,  98.1,  98.3,  98.5,  98.6,  99.3,  99.5,  99.1,\n",
       "        98.3,  98.4,  96.9,  97.2,  97.4,  97.4,  97.9,  97.1,  98.6,\n",
       "        98.2,  97.6,  98.4,  98.6,  97.4,  98.6,  98.9,  98. ,  98.8,\n",
       "        99. ,  98.8,  98.4,  97.4,  97.6,  98. ,  97.5,  97.1,  98. ,\n",
       "        98.7,  98.1,  97.8,  97.1,  97.8,  98. ,  99. ,  98.5,  97.6,\n",
       "        96.7,  97. ,  98.6,  97.3,  99. ,  98. ,  98.7,  97.5,  96.3,\n",
       "        97.7,  97.9])"
      ]
     },
     "execution_count": 37,
     "metadata": {},
     "output_type": "execute_result"
    }
   ],
   "source": [
    "#Extracting male temperatures\n",
    "temp_male=df[df.gender=='M']\n",
    "temp_male=temp_male['temperature'].values\n",
    "temp_male\n"
   ]
  },
  {
   "cell_type": "code",
   "execution_count": 38,
   "metadata": {
    "collapsed": false
   },
   "outputs": [
    {
     "data": {
      "text/plain": [
       "array([  99.3,   98.4,   99.2,   98. ,   98.4,   98.6,   98.8,   96.7,\n",
       "         98.7,   97.8,   98.8,   98.3,   97.2,   98.3,   98. ,   97.8,\n",
       "         98.2,   98.4,   97.6,   97.9,   96.4,   98.4,   99. ,   97.9,\n",
       "         98.9,   98.3,   98.5,   98.2,   98.6,   98.8,   98.2,   99.1,\n",
       "         98.2,   98.7,   97.4,   98.7,   98.1,   97.7,   98. ,   98.8,\n",
       "         99.2,   98.6,   98.6,  100. ,   98.8,   96.8,   99.9,   98.7,\n",
       "         98.8,   98. ,   99.4,   98.7,   98.8,   98. ,   98.2,   99.1,\n",
       "        100.8,   97.8,   98.4,   97.7,   97.9,   99. ,   97.2,   98.2,\n",
       "         98.7])"
      ]
     },
     "execution_count": 38,
     "metadata": {},
     "output_type": "execute_result"
    }
   ],
   "source": [
    "#Extracting Female temperature\n",
    "temp_female=df[df.gender=='F']\n",
    "temp_female=temp_female['temperature'].values\n",
    "temp_female"
   ]
  },
  {
   "cell_type": "code",
   "execution_count": 51,
   "metadata": {
    "collapsed": false
   },
   "outputs": [
    {
     "name": "stdout",
     "output_type": "stream",
     "text": [
      "THe difference in means of bootstrap replicates :[-0.31230769  0.06615385  0.07846154 ...,  0.08769231 -0.13384615\n",
      " -0.19538462]\n",
      "THe empirical means :-0.289230769231\n",
      "p-value = 0.9863\n"
     ]
    }
   ],
   "source": [
    "temp_concat=np.concatenate((temp_male,temp_female))#Concetenate both male and female arrays\n",
    "\n",
    "# Compute mean of all forces: mean_force\n",
    "mean_temp_all = np.mean(temp_concat)\n",
    "\n",
    "# Generate shifted arrays\n",
    "temp_m_shifted = temp_male - np.mean(temp_male) + mean_temp_all\n",
    "temp_f_shifted = temp_female - np.mean(temp_female) + mean_temp_all\n",
    "\n",
    "# Compute 10,000 bootstrap replicates from shifted arrays\n",
    "bs_replicates_m = draw_bs_reps(temp_m_shifted, np.mean, 10000)\n",
    "bs_replicates_f = draw_bs_reps(temp_f_shifted, np.mean, 10000)\n",
    "\n",
    "# Get replicates of difference of means: bs_replicates\n",
    "bs_replicates = bs_replicates_m - bs_replicates_f\n",
    "print('THe difference in means of bootstrap replicates :%s'%bs_replicates)\n",
    "\n",
    "# Calculate diff_of_means_actual\n",
    "empirical_diff_means = np.mean(temp_male)-np.mean(temp_female)\n",
    "print('THe empirical means :%s'%empirical_diff_means)\n",
    "\n",
    "# Compute and print p-value: p\n",
    "p = np.sum(bs_replicates>=empirical_diff_means) / 10000\n",
    "print('p-value =', p)"
   ]
  },
  {
   "cell_type": "markdown",
   "metadata": {
    "collapsed": true
   },
   "source": [
    "From the above p-value we can say that there is no significant differecne in Average Temperatures of male and female   "
   ]
  },
  {
   "cell_type": "code",
   "execution_count": null,
   "metadata": {
    "collapsed": true
   },
   "outputs": [],
   "source": []
  },
  {
   "cell_type": "code",
   "execution_count": null,
   "metadata": {
    "collapsed": true
   },
   "outputs": [],
   "source": []
  },
  {
   "cell_type": "code",
   "execution_count": null,
   "metadata": {
    "collapsed": true
   },
   "outputs": [],
   "source": []
  },
  {
   "cell_type": "code",
   "execution_count": null,
   "metadata": {
    "collapsed": true
   },
   "outputs": [],
   "source": []
  },
  {
   "cell_type": "code",
   "execution_count": null,
   "metadata": {
    "collapsed": true
   },
   "outputs": [],
   "source": []
  },
  {
   "cell_type": "code",
   "execution_count": null,
   "metadata": {
    "collapsed": true
   },
   "outputs": [],
   "source": []
  },
  {
   "cell_type": "code",
   "execution_count": null,
   "metadata": {
    "collapsed": true
   },
   "outputs": [],
   "source": []
  },
  {
   "cell_type": "code",
   "execution_count": null,
   "metadata": {
    "collapsed": true
   },
   "outputs": [],
   "source": []
  },
  {
   "cell_type": "code",
   "execution_count": null,
   "metadata": {
    "collapsed": true
   },
   "outputs": [],
   "source": []
  },
  {
   "cell_type": "code",
   "execution_count": null,
   "metadata": {
    "collapsed": true
   },
   "outputs": [],
   "source": []
  },
  {
   "cell_type": "code",
   "execution_count": null,
   "metadata": {
    "collapsed": true
   },
   "outputs": [],
   "source": []
  }
 ],
 "metadata": {
  "anaconda-cloud": {},
  "kernelspec": {
   "display_name": "Python [default]",
   "language": "python",
   "name": "python3"
  },
  "language_info": {
   "codemirror_mode": {
    "name": "ipython",
    "version": 3
   },
   "file_extension": ".py",
   "mimetype": "text/x-python",
   "name": "python",
   "nbconvert_exporter": "python",
   "pygments_lexer": "ipython3",
   "version": "3.5.4"
  }
 },
 "nbformat": 4,
 "nbformat_minor": 1
}
